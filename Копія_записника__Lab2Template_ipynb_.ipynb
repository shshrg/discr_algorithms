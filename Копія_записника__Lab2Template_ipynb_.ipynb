{
  "cells": [
    {
      "cell_type": "markdown",
      "metadata": {
        "id": "TUMlYqj3oKCC"
      },
      "source": [
        "## Лабораторна робота №2: \"Імплементація алгоритмів стиснення\"\n",
        "\n",
        "Склад команди та розподіл виконаних завдань:\n",
        "\n",
        "-\n",
        "-\n",
        "\n",
        "Для кожного з алгоритмів поданих нижче\n",
        "- опишіть як працює алгорит\n",
        "- напишіть класи з методами encode та decode\n",
        "- перевірте правильність кодування та декодування\n",
        "- дослідіть час виконання коду в залежності від розмірів вхідних даних\n",
        "- оцініть ступінь стиснення(у відсотка) в залежності від розмірів\n",
        "- напишіть висновок про ефективність різних алгоритмів та умови за яких той чи інший алгоритм дають кращий результат"
      ]
    },
    {
      "cell_type": "markdown",
      "metadata": {
        "id": "q7FpJG25oNzA"
      },
      "source": [
        "# Алгоритм Гаффмана\n",
        "\n",
        "В цьому алгоритмі доцільно імплементувати клас node та додаткові функції в Huffman для побудови дерева кодування"
      ]
    },
    {
      "cell_type": "code",
      "execution_count": 43,
      "metadata": {
        "id": "5fHzFB9gh7c2"
      },
      "outputs": [],
      "source": [
        "import heapq \n",
        "\n",
        "class Node: \n",
        "    def __init__(self, freq, symbol, left=None, right=None): \n",
        "        self.frequency = freq\n",
        "\n",
        "        self.symbol = symbol \n",
        "  \n",
        "        self.left = left \n",
        "  \n",
        "        self.right = right \n",
        "  \n",
        "        self.huff = '' \n",
        "  \n",
        "    def __lt__(self, nxt): \n",
        "        return self.frequency < nxt.frequency\n",
        "\n",
        "class Huffman:\n",
        "    def encode(self, text: str) -> tuple[str, dict[str, str]]:\n",
        "        # sorting all characters in the text by frequency\n",
        "        characters = {x: text.count(x) for x in sorted(list(text), key = lambda a:text.count(a))}\n",
        "        nodes = []\n",
        "\n",
        "        for ch, fr in characters.items():\n",
        "            heapq.heappush(nodes, Node(fr, ch))\n",
        "\n",
        "        while len(nodes) > 1:\n",
        "            left = heapq.heappop(nodes)\n",
        "            right = heapq.heappop(nodes)\n",
        "\n",
        "            left.huff = 0\n",
        "            right.huff = 1\n",
        "\n",
        "            new_node = Node(left.frequency+right.frequency, left.symbol+right.symbol, left, right)\n",
        "\n",
        "            heapq.heappush(nodes, new_node)\n",
        "\n",
        "        result = {}\n",
        "        def get_result(node, val=''):\n",
        "            new_value = val + str(node.huff)\n",
        "            if node.left:\n",
        "                get_result(node.left, new_value)\n",
        "            if node.right:\n",
        "                get_result(node.right, new_value)\n",
        "            if not node.left and not node.right:\n",
        "                result[node.symbol] = new_value\n",
        "        get_result(nodes[0])\n",
        "        print(result)\n",
        "        return ''.join(result[sym] for sym in text)\n",
        "\n",
        "    def decode(self, code: str, coding_dict: dict[str, str]):\n",
        "        message = ''\n",
        "        current_code = ''\n",
        "        for symbol in code:\n",
        "            current_code += symbol\n",
        "            for s, c in coding_dict.items():\n",
        "                if c == current_code:\n",
        "                    message += s\n",
        "                    current_code = ''\n",
        "        return message\n"
      ]
    },
    {
      "cell_type": "code",
      "execution_count": 44,
      "metadata": {},
      "outputs": [
        {
          "name": "stdout",
          "output_type": "stream",
          "text": [
            "{'b': '0', '\\n': '100', 'a': '101', 'c': '11'}\n",
            "932.2317171096802\n",
            "572418\n"
          ]
        }
      ],
      "source": [
        "import time\n",
        "obj = Huffman()\n",
        "count = 0\n",
        "\n",
        "with open('example42.txt', 'r', encoding='utf-8') as file:\n",
        "    file_content = file.read()\n",
        "    count = sum(1 for elem in file_content if elem in 'abc')\n",
        "\n",
        "start = time.time()\n",
        "encoded_result = obj.encode(file_content)\n",
        "end = time.time()\n",
        "\n",
        "final_time = end - start\n",
        "print(final_time)\n",
        "print(count)"
      ]
    },
    {
      "cell_type": "code",
      "execution_count": 40,
      "metadata": {},
      "outputs": [
        {
          "name": "stdout",
          "output_type": "stream",
          "text": [
            "100.0\n"
          ]
        }
      ],
      "source": [
        "obj = Huffman()\n",
        "count =0\n",
        "with open('example42.txt', 'r', encoding='utf-8') as file:\n",
        "    file = file.read()\n",
        "    for elem in file:\n",
        "        if elem in 'abc':\n",
        "            count += 1\n",
        "final = len(obj.encode())\n",
        "res = final / len(obj) * 100\n",
        "print(res)"
      ]
    },
    {
      "cell_type": "markdown",
      "metadata": {
        "id": "6_0LIrbWoQxo"
      },
      "source": [
        "# Алгоритм LZW"
      ]
    },
    {
      "cell_type": "code",
      "execution_count": 24,
      "metadata": {
        "id": "ogew0FkaoUNS"
      },
      "outputs": [],
      "source": [
        "class LZW:\n",
        "    def encode(self, text: str) -> tuple[str, list]:\n",
        "        result = ''\n",
        "        code_dict = {x[0]: x[1]+1 for x in zip(sorted(set(text)), range(len(set(text))))}\n",
        "        next_index = len(code_dict) + 1\n",
        "        current_string = ''\n",
        "        for symbol in text:\n",
        "            next_string = current_string + symbol\n",
        "            if next_string in code_dict:\n",
        "                current_string = next_string\n",
        "            else:\n",
        "                result += str(code_dict[current_string])\n",
        "                code_dict[next_string] = next_index\n",
        "                next_index += 1\n",
        "                current_string = symbol\n",
        "        if current_string in code_dict:\n",
        "            result += str(code_dict[current_string])\n",
        "        return result\n",
        "\n",
        "    def decode(self, code: str, coding_dict: list) -> str:\n",
        "        message = ''\n",
        "        current_code = ''\n",
        "        for symbol in code:\n",
        "            current_code += symbol\n",
        "            for s, c in coding_dict.items():\n",
        "                if str(c) == current_code:\n",
        "                    message += s\n",
        "                    current_code = ''\n",
        "        return message\n"
      ]
    },
    {
      "cell_type": "code",
      "execution_count": 29,
      "metadata": {},
      "outputs": [
        {
          "name": "stdout",
          "output_type": "stream",
          "text": [
            "0.21686816215515137\n",
            "572418\n"
          ]
        }
      ],
      "source": [
        "import time\n",
        "\n",
        "obj = LZW()\n",
        "count = 0\n",
        "\n",
        "with open('example42.txt', 'r', encoding='utf-8') as file:\n",
        "    file_content = file.read()\n",
        "    for elem in file_content:\n",
        "        if elem in 'abc':\n",
        "            count += 1\n",
        "\n",
        "start = time.time()\n",
        "encoded_result = obj.encode(file_content)\n",
        "end = time.time()\n",
        "\n",
        "final_time = end - start\n",
        "print(final_time)\n",
        "print(count)"
      ]
    },
    {
      "cell_type": "code",
      "execution_count": 41,
      "metadata": {},
      "outputs": [
        {
          "name": "stdout",
          "output_type": "stream",
          "text": [
            "9.36780464625501\n"
          ]
        }
      ],
      "source": [
        "obj = LZW()\n",
        "count =0\n",
        "with open('example42.txt', 'r', encoding='utf-8') as file:\n",
        "    file = file.read()\n",
        "    for elem in file:\n",
        "        if elem in 'abc':\n",
        "            count += 1\n",
        "final = len(obj.encode(file))\n",
        "res = final / count * 100\n",
        "print(res)"
      ]
    },
    {
      "cell_type": "markdown",
      "metadata": {
        "id": "eETQbkkDoTDc"
      },
      "source": [
        "# Алгоритм LZ77\n",
        "\n",
        "Потрібно заміряти розміри саме тексту, проте для роботи доцільно використовувати список тюплів, тому для зручності варто імплементувати додаткові алгоритми _text2list та _list2text"
      ]
    },
    {
      "cell_type": "code",
      "execution_count": 12,
      "metadata": {
        "id": "Mu1A0QS2oaOF"
      },
      "outputs": [
        {
          "name": "stdout",
          "output_type": "stream",
          "text": [
            "(0, 0, a)(0, 0, b)(0, 0, c)(3, 1, c)(4, 1, a)(2, 1, c)(3, 3, a)(3, 3, c)(4, 1, a)(3, 3, c)(3, 1, b)(4, 2, a)(3, 2, b)(3, 3, a)(2, 1, c)(4, 2, c)(3, 2, b)(4, 3, c)(3, 2, )\n",
            "abcacbabcabcabcacbacbacbbacaacbacbabcbacbabcbacba\n",
            "abcacbabcabcabcacbacbacbbacaacbacbabcbacbabcbacba\n"
          ]
        }
      ],
      "source": [
        "class LZ77:\n",
        "    def __init__(self, buffer_size: int):\n",
        "        self.buffer_size = buffer_size\n",
        "\n",
        "    def encode(self, text):\n",
        "        compressed_data = ''\n",
        "        i = 0\n",
        "        while i < len(text):\n",
        "            match_length = 0\n",
        "            match_offset = 0\n",
        "            for j in range(1, min(self.buffer_size, len(text) - i) + 1):\n",
        "                substring = text[i:i + j]\n",
        "                previous_occurrence_index = max(i - self.buffer_size, 0)\n",
        "                previous_occurrence = text[previous_occurrence_index:i]\n",
        "                offset = previous_occurrence.rfind(substring)\n",
        "                if offset != -1 and j > match_length:\n",
        "                    match_length = j\n",
        "                    match_offset = i - previous_occurrence_index - offset\n",
        "\n",
        "            if match_length > 0:\n",
        "                next_char_index = i + match_length\n",
        "                next_char = text[next_char_index] if next_char_index < len(text) else ''\n",
        "                compressed_data += f\"({match_offset}, {match_length}, {next_char})\"\n",
        "                i += match_length + 1\n",
        "            else:\n",
        "                compressed_data += f\"(0, 0, {text[i]})\"\n",
        "                i += 1\n",
        "\n",
        "        return compressed_data\n",
        "    def decode(self, code):\n",
        "        decoded_text = ''\n",
        "        i = 0\n",
        "        while i < len(code):\n",
        "            if code[i] == '(':\n",
        "                j = i + 1\n",
        "                while code[j] != ')':\n",
        "                    j += 1\n",
        "                triplet = code[i + 1:j]\n",
        "                parts = triplet.split(', ')\n",
        "                offset, length, next_char = int(parts[0]), int(parts[1]), parts[2]\n",
        "\n",
        "                if offset == 0:\n",
        "                    decoded_text += next_char\n",
        "                else:\n",
        "                    current_size = len(decoded_text)\n",
        "                    for k in range(0, length):\n",
        "                        decoded_text += decoded_text[current_size - offset + k]\n",
        "                    decoded_text += next_char\n",
        "\n",
        "                i = j + 1\n",
        "            else:\n",
        "                break\n",
        "\n",
        "        return decoded_text\n",
        "obj = LZ77(5)\n",
        "text = 'abcacbabcabcabcacbacbacbbacaacbacbabcbacbabcbacba'\n",
        "encoded_data = obj.encode(text)\n",
        "print(encoded_data)\n",
        "decoded_data = obj.decode(encoded_data)\n",
        "print( decoded_data)\n",
        "print(text)\n"
      ]
    },
    {
      "cell_type": "code",
      "execution_count": 13,
      "metadata": {},
      "outputs": [
        {
          "name": "stdout",
          "output_type": "stream",
          "text": [
            "3.4268877506256104\n",
            "572418\n"
          ]
        }
      ],
      "source": [
        "import time\n",
        "obj = LZ77(5)\n",
        "count =0\n",
        "with open('example42.txt', 'r', encoding='utf-8') as file:\n",
        "    file = file.read()\n",
        "    for elem in file:\n",
        "        if elem in 'abc':\n",
        "            count += 1\n",
        "start = time.time()\n",
        "obj.encode(file)\n",
        "end = time.time()\n",
        "\n",
        "final_time = end - start\n",
        "print(final_time)\n",
        "print(count)"
      ]
    },
    {
      "cell_type": "code",
      "execution_count": 17,
      "metadata": {},
      "outputs": [
        {
          "name": "stdout",
          "output_type": "stream",
          "text": [
            "300.6774769486634\n"
          ]
        }
      ],
      "source": [
        "obj = LZ77(5)\n",
        "count =0\n",
        "with open('example42.txt', 'r', encoding='utf-8') as file:\n",
        "    file = file.read()\n",
        "    for elem in file:\n",
        "        if elem in 'abc':\n",
        "            count += 1\n",
        "final = len(obj.encode(file))\n",
        "res = final / count * 100\n",
        "print(res)"
      ]
    },
    {
      "cell_type": "markdown",
      "metadata": {
        "id": "bz-B5jWroghO"
      },
      "source": [
        "# Алгоритм Deflate"
      ]
    },
    {
      "cell_type": "code",
      "execution_count": 35,
      "metadata": {
        "id": "ZAU57ZQtogOC"
      },
      "outputs": [],
      "source": [
        "class Deflate:\n",
        "    def __init__(self, buffer_size: int):\n",
        "        self.buffer_size = buffer_size\n",
        "\n",
        "    def encode(self, text: str) -> str:\n",
        "        lz77 = LZ77(self.buffer_size).encode(text)\n",
        "        return Huffman().encode(lz77.replace('(', '').replace(')','').replace(', ',''))\n",
        "        \n",
        "\n",
        "    def decode(self, code: str) -> str:\n",
        "        pass"
      ]
    },
    {
      "cell_type": "code",
      "execution_count": 46,
      "metadata": {},
      "outputs": [
        {
          "name": "stdout",
          "output_type": "stream",
          "text": [
            "{'b': '00', '0': '010000', '\\n': '010001', '5': '01001', 'c': '0101', '1': '011', '3': '10', '4': '110', '2': '1110', 'a': '1111'}\n",
            "771.3616693019867\n",
            "572418\n"
          ]
        }
      ],
      "source": [
        "import time\n",
        "obj = Deflate(5)\n",
        "\n",
        "count = 0\n",
        "with open('example42.txt', 'r', encoding='utf-8') as file:\n",
        "    file_content = file.read()\n",
        "    for elem in file_content:\n",
        "        if elem in 'abc':\n",
        "            count += 1\n",
        "\n",
        "start = time.time()\n",
        "encoded_result = obj.encode(file_content)\n",
        "end = time.time()\n",
        "\n",
        "final_time = end - start\n",
        "\n",
        "print(final_time)\n",
        "print(count)"
      ]
    },
    {
      "cell_type": "code",
      "execution_count": 38,
      "metadata": {},
      "outputs": [
        {
          "name": "stdout",
          "output_type": "stream",
          "text": [
            "{'3': '00', 'a': '010', '1': '011', '4': '100', 'b': '101', '0': '110', 'c': '1110', '2': '1111'}\n",
            "381.25\n"
          ]
        }
      ],
      "source": [
        "obj = Deflate(5)\n",
        "count =0\n",
        "with open('example42.txt', 'r', encoding='utf-8') as file:\n",
        "    file = file.read()\n",
        "    for elem in file:\n",
        "        if elem in 'abc':\n",
        "            count += 1\n",
        "final = len(obj.encode())\n",
        "res = final / len() * 100\n",
        "print(res)"
      ]
    }
  ],
  "metadata": {
    "colab": {
      "provenance": []
    },
    "kernelspec": {
      "display_name": "Python 3",
      "name": "python3"
    },
    "language_info": {
      "codemirror_mode": {
        "name": "ipython",
        "version": 3
      },
      "file_extension": ".py",
      "mimetype": "text/x-python",
      "name": "python",
      "nbconvert_exporter": "python",
      "pygments_lexer": "ipython3",
      "version": "3.11.5"
    }
  },
  "nbformat": 4,
  "nbformat_minor": 0
}
